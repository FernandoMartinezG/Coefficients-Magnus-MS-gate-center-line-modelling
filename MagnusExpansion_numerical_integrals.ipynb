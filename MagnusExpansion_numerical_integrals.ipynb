{
 "cells": [
  {
   "cell_type": "markdown",
   "metadata": {},
   "source": [
    "## MS gate modelling"
   ]
  },
  {
   "cell_type": "markdown",
   "metadata": {},
   "source": [
    "### Numerical Integrals - First order Magnus expansion"
   ]
  },
  {
   "cell_type": "markdown",
   "metadata": {},
   "source": [
    "In this notebook we present the code used for computing the first order coefficients $I_{m}^{n}$ of Eq. (A9) and the second order coefficients $J^n_{1,m}$, $J^n_{2,m}$ , $J^n_{3,m}$ of Eqs. (A15), (A16) for a costant laser pulse"
   ]
  },
  {
   "cell_type": "code",
   "execution_count": 1,
   "metadata": {},
   "outputs": [],
   "source": [
    "import numpy as np\n",
    "import scipy\n",
    "from math import factorial\n",
    "import scipy.integrate as integrate\n",
    "from scipy.special import binom\n",
    "from itertools import product\n",
    "%matplotlib inline\n",
    "import matplotlib.pyplot as plt\n",
    "\n",
    "def plot_matrix(data):\n",
    "    fig, ax = plt.subplots(figsize=(5,5))\n",
    "\n",
    "    cm = ax.imshow(data, aspect='auto')\n",
    "\n",
    "    ax.set_xlabel(\"n\")\n",
    "    ax.set_ylabel(\"m\")\n",
    "\n",
    "    plt.colorbar(cm)\n",
    "    plt.show()\n"
   ]
  },
  {
   "cell_type": "code",
   "execution_count": 2,
   "metadata": {},
   "outputs": [],
   "source": [
    "# Omega - Rabi Frequency\n",
    "# tau_g - gate time\n",
    "params = {\"Omega\": 0.5,\n",
    "          \"tau_g\": 2 * np.pi\n",
    "          }"
   ]
  },
  {
   "cell_type": "code",
   "execution_count": 3,
   "metadata": {},
   "outputs": [],
   "source": [
    "def f(tau, params):\n",
    "    Omega = params.get(\"Omega\", 0.5)\n",
    "    return Omega * (np.exp(1j * tau) - 1)\n",
    "\n",
    "\n",
    "def g(tau, params):\n",
    "    Omega = params.get(\"Omega\", 0.5)\n",
    "    return Omega**2 * (tau - np.sin(tau))\n",
    "\n",
    "\n",
    "def matrix_element_D(alpha, m, n):\n",
    "    # Matrix element of the displacement operator D(alpha)\n",
    "    if m >= n:\n",
    "        sum_k = np.sum([(-1)**k * binom(n, k) *\n",
    "                       np.abs(alpha)**(2 * k) /\n",
    "                       factorial(m - n + k)\n",
    "                       for k in range(n+1)]\n",
    "                       )\n",
    "        m_element = (np.sqrt(factorial(m)/factorial(n)) *\n",
    "                     alpha ** (m - n) *\n",
    "                     np.exp(-np.abs(alpha)**2 / 2) *\n",
    "                     sum_k\n",
    "                     )\n",
    "\n",
    "    else:\n",
    "        sum_k = np.sum([(-1)**(n - k) * binom(n, k) *\n",
    "                       np.abs(alpha)**(2 * (m - k)) /\n",
    "                       factorial(m - k)\n",
    "                       for k in range(m + 1)]\n",
    "                       )\n",
    "        m_element = (np.sqrt(factorial(m)/factorial(n)) *\n",
    "                     alpha.conjugate() ** (n - m) *\n",
    "                     np.exp(-np.abs(alpha)**2 / 2) *\n",
    "                     sum_k\n",
    "                     )\n",
    "\n",
    "    return m_element\n",
    "\n",
    "\n",
    "def integrand_Imn(tau, m, n, params):\n",
    "    return np.exp(1j * g(tau, params)) * matrix_element_D(f(tau, params), m, n)\n",
    "\n",
    "\n",
    "def I_mn(m, n, params):\n",
    "    # coefficients I_mn from equation (A9)\n",
    "    tau_g = params.get(\"tau_g\", 2 * np.pi)\n",
    "\n",
    "    def real_part(tau):\n",
    "        return scipy.real(integrand_Imn(tau, m, n, params))\n",
    "\n",
    "    def im_part(tau):\n",
    "        return scipy.imag(integrand_Imn(tau, m, n, params))\n",
    "\n",
    "    re_integral = integrate.quad(real_part, 0, tau_g)\n",
    "    im_integral = integrate.quad(im_part, 0, tau_g)\n",
    "\n",
    "    return 1j * (re_integral[0] + 1j*im_integral[0]) / 2\n",
    "\n"
   ]
  },
  {
   "cell_type": "code",
   "execution_count": 4,
   "metadata": {},
   "outputs": [
    {
     "data": {
      "image/png": "[encoded data removed]",
      "text/plain": [
       "<Figure size 360x360 with 2 Axes>"
      ]
     },
     "metadata": {
      "needs_background": "light"
     },
     "output_type": "display_data"
    }
   ],
   "source": [
    "# Plot |I_mn|^2\n",
    "grid_size = 8;\n",
    "Ipp_array = np.array([np.abs(I_mn(m, n, params))**2\n",
    "                     for m, n in product(range(grid_size), repeat=2)]).reshape((grid_size, grid_size))\n",
    "\n",
    "plot_matrix(Ipp_array)"
   ]
  },
  {
   "cell_type": "markdown",
   "metadata": {},
   "source": [
    "### Second Order Magnus Expansion"
   ]
  },
  {
   "cell_type": "code",
   "execution_count": 5,
   "metadata": {},
   "outputs": [],
   "source": [
    "def integrand_J11(t1, t2, m, n, params):\n",
    "    tau_g = params.get(\"tau_g\", 2 * np.pi)\n",
    "    J11 = (matrix_element_D(f(t2,params) - f(t1 - \\\n",
    "        tau_g,params),m,n)*np.exp(complex(0,-1)*np.conjugate(g(t1 - \\\n",
    "        tau_g,params)) + (np.conjugate(f(t1 - tau_g,params))*f(t2,params) - \\\n",
    "        np.conjugate(f(t2,params))*f(t1 - tau_g,params))/2. + \\\n",
    "        complex(0,1)*g(t2,params)))/4.\n",
    "    return J11\n",
    "\n",
    "\n",
    "def integrand_J12(t1, t2, m, n, params):\n",
    "    tau_g = params.get(\"tau_g\", 2 * np.pi)\n",
    "    J12 = -(matrix_element_D(f(t1,params) - f(t2,params) + \\\n",
    "        f(tau_g,params),m,n)*np.exp(complex(0,-1)*np.conjugate(g(t2,params)) \\\n",
    "        + (np.conjugate(f(tau_g,params))*f(t2,params) - \\\n",
    "        np.conjugate(f(t2,params))*f(tau_g,params))/2. + \\\n",
    "        (-((-np.conjugate(f(t2,params)) + \\\n",
    "        np.conjugate(f(tau_g,params)))*f(t1,params)) + \\\n",
    "        np.conjugate(f(t1,params))*(-f(t2,params) + f(tau_g,params)))/2. + \\\n",
    "        complex(0,1)*g(t1,params) + complex(0,1)*g(tau_g,params)))/4. + \\\n",
    "        (matrix_element_D(-f(t1,params) + f(t2,params) + \\\n",
    "        f(tau_g,params),m,n)*np.exp(complex(0,-1)*np.conjugate(g(t1,params)) \\\n",
    "        + (np.conjugate(f(tau_g,params))*f(t1,params) - \\\n",
    "        np.conjugate(f(t1,params))*f(tau_g,params))/2. + \\\n",
    "        (-((-np.conjugate(f(t1,params)) + \\\n",
    "        np.conjugate(f(tau_g,params)))*f(t2,params)) + \\\n",
    "        np.conjugate(f(t2,params))*(-f(t1,params) + f(tau_g,params)))/2. + \\\n",
    "        complex(0,1)*g(t2,params) + complex(0,1)*g(tau_g,params)))/4.\n",
    "    return J12\n",
    "\n",
    "def J1(m, n, params):\n",
    "    tau_g = params.get(\"tau_g\", 2 * np.pi)\n",
    "\n",
    "    def real_part_1(t1, t2):\n",
    "        return scipy.real(integrand_J11(t1, t2, m, n, params))\n",
    "\n",
    "    def im_part_1(t1, t2):\n",
    "        return scipy.imag(integrand_J11(t1, t2, m, n, params))\n",
    "\n",
    "    re_integral_1 = integrate.dblquad(real_part_1, 0, tau_g, lambda t2: 0, lambda t2: tau_g)\n",
    "    im_integral_1 = integrate.dblquad(im_part_1, 0, tau_g, lambda t2: 0, lambda t2: tau_g)\n",
    "\n",
    "    def real_part_2(t1, t2):\n",
    "        return scipy.real(integrand_J12(t2, t1, m, n, params))\n",
    "\n",
    "    def im_part_2(t1, t2):\n",
    "        return scipy.imag(integrand_J12(t2, t1, m, n, params))\n",
    "\n",
    "    re_integral_2 = integrate.dblquad(real_part_2, 0, tau_g, lambda t1: 0, lambda t1: t1)\n",
    "    im_integral_2 = integrate.dblquad(im_part_2, 0, tau_g, lambda t1: 0, lambda t1: t1)\n",
    "\n",
    "    return (re_integral_1[0] + re_integral_2[0])+ 1j*(im_integral_1[0] + im_integral_2[0])\n",
    "\n",
    "\n",
    "def integrand_J21(t1, t2, m, n, params):\n",
    "    tau_g = params.get(\"tau_g\", 2 * np.pi)\n",
    "    J21 = (matrix_element_D(f(t2,params) + f(t1 - tau_g,params),m,n)*np.exp((-(np.conjugate(f(t1 - tau_g,params))*f(t2,params)) + np.conjugate(f(t2,params))*f(t1 - tau_g,params) + complex(0,2)*(g(t2,params) - g(t1 - tau_g,params)))/2.))/4.\n",
    "    return J21\n",
    "\n",
    "\n",
    "def integrand_J22(t1, t2, m, n, params):\n",
    "    tau_g = params.get(\"tau_g\", 2 * np.pi)\n",
    "    J22 = (matrix_element_D(f(t1,params) + f(t2,params) - f(tau_g,params),m,n)*(-np.exp(np.conjugate(f(t1,params))*f(t2,params) + complex(0,2)*g(t1,params)) + np.exp(np.conjugate(f(t2,params))*f(t1,params) + complex(0,2)*g(t2,params)))*np.exp((-(np.conjugate(f(t1,params))*f(t2,params)) + np.conjugate(f(tau_g,params))*(f(t1,params) + f(t2,params)) - np.conjugate(f(t1,params))*f(tau_g,params) - np.conjugate(f(t2,params))*(f(t1,params) + f(tau_g,params)) + complex(0,-2)*g(t1,params) + complex(0,-2)*g(t2,params) + complex(0,2)*g(tau_g,params))/2.))/4.\n",
    "    return J22\n",
    "\n",
    "def J2(m, n, params):\n",
    "    tau_g = params.get(\"tau_g\", 2 * np.pi)\n",
    "\n",
    "    def real_part_1(t1, t2):\n",
    "        return scipy.real(integrand_J21(t1, t2, m, n, params))\n",
    "\n",
    "    def im_part_1(t1, t2):\n",
    "        return scipy.imag(integrand_J21(t1, t2, m, n, params))\n",
    "\n",
    "    re_integral_1 = integrate.dblquad(real_part_1, 0, tau_g, lambda t2: 0, lambda t2: tau_g)\n",
    "    im_integral_1 = integrate.dblquad(im_part_1, 0, tau_g, lambda t2: 0, lambda t2: tau_g)\n",
    "\n",
    "\n",
    "    def real_part_2(t1, t2):\n",
    "        return scipy.real(integrand_J22(t2, t1, m, n, params))\n",
    "\n",
    "    def im_part_2(t1, t2):\n",
    "        return scipy.imag(integrand_J22(t2, t1, m, n, params))\n",
    "\n",
    "    re_integral_2 = integrate.dblquad(real_part_2, 0, tau_g, lambda t2: 0, lambda t2: t2)\n",
    "    im_integral_2 = integrate.dblquad(im_part_2, 0, tau_g, lambda t2: 0, lambda t2: t2)\n",
    "\n",
    "    return (re_integral_1[0] + re_integral_2[0])+ 1j*(im_integral_1[0] + im_integral_2[0])\n",
    "\n",
    "\n",
    "def integrand_J31(t1, t2, m, n, params):\n",
    "    tau_g = params.get(\"tau_g\", 2 * np.pi)\n",
    "    J31 = ((matrix_element_D(f(t1,params) - f(t2,params),m,n) + matrix_element_D(-f(t1,params) + f(t2,params),m,n))*np.exp((-(np.conjugate(f(t2,params))*f(t1,params)) + np.conjugate(f(t1,params))*f(t2,params) + complex(0,2)*(g(t1,params) - g(t2,params)))/2.))/8.\n",
    "    return J31\n",
    "\n",
    "\n",
    "def integrand_J32(t1, t2, m, n, params):\n",
    "    tau_g = params.get(\"tau_g\", 2 * np.pi)\n",
    "    J32 = ((matrix_element_D(f(t1,params) - f(t2,params),m,n) + matrix_element_D(-f(t1,params) + f(t2,params),m,n))*(np.exp(np.conjugate(f(t1,params))*f(t2,params) + complex(0,2)*g(t1,params)) - np.exp(np.conjugate(f(t2,params))*f(t1,params) + complex(0,2)*g(t2,params)))*np.exp((-(np.conjugate(f(t2,params))*f(t1,params)) - np.conjugate(f(t1,params))*f(t2,params) + complex(0,-2)*(g(t1,params) + g(t2,params)))/2.))/8.\n",
    "    return J32\n",
    "\n",
    "\n",
    "def J3(m, n, params):\n",
    "    tau_g = params.get(\"tau_g\", 2 * np.pi)\n",
    "\n",
    "    def real_part_1(t1, t2):\n",
    "        return scipy.real(integrand_J31(t1, t2, m, n, params))\n",
    "\n",
    "    def im_part_1(t1, t2):\n",
    "        return scipy.imag(integrand_J31(t1, t2, m, n, params))\n",
    "\n",
    "    re_integral_1 = integrate.dblquad(real_part_1, 0, tau_g, lambda t2: 0, lambda t2: tau_g)\n",
    "    im_integral_1 = integrate.dblquad(im_part_1, 0, tau_g, lambda t2: 0, lambda t2: tau_g)\n",
    "\n",
    "\n",
    "    def real_part_2(t1, t2):\n",
    "        return scipy.real(integrand_J32(t2, t1, m, n, params))\n",
    "\n",
    "    def im_part_2(t1, t2):\n",
    "        return scipy.imag(integrand_J32(t2, t1, m, n, params))\n",
    "\n",
    "    re_integral_2 = integrate.dblquad(real_part_2, 0, tau_g, lambda t2: 0, lambda t2: t2)\n",
    "    im_integral_2 = integrate.dblquad(im_part_2, 0, tau_g, lambda t2: 0, lambda t2: t2)\n",
    "\n",
    "    return (re_integral_1[0] + re_integral_2[0])+ 1j*(im_integral_1[0] + im_integral_2[0])"
   ]
  },
  {
   "cell_type": "code",
   "execution_count": 6,
   "metadata": {},
   "outputs": [
    {
     "name": "stdout",
     "output_type": "stream",
     "text": [
      "(4.855481131590017+4.314263505507647j)\n",
      "(2.469264932883705+3.771944688324039j)\n",
      "(6.407585321181335+2.517437598983104j)\n"
     ]
    }
   ],
   "source": [
    "n = 0\n",
    "m = 0\n",
    "print(J1(m, n, params))\n",
    "print(J2(m, n, params))\n",
    "print(J3(m, n, params))"
   ]
  },
  {
   "cell_type": "code",
   "execution_count": null,
   "metadata": {},
   "outputs": [],
   "source": []
  }
 ],
 "metadata": {
  "kernelspec": {
   "display_name": "Python 3",
   "language": "python",
   "name": "python3"
  },
  "language_info": {
   "codemirror_mode": {
    "name": "ipython",
    "version": 3
   },
   "file_extension": ".py",
   "mimetype": "text/x-python",
   "name": "python",
   "nbconvert_exporter": "python",
   "pygments_lexer": "ipython3",
   "version": "3.7.4"
  }
 },
 "nbformat": 4,
 "nbformat_minor": 2
}
